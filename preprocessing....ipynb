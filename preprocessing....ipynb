{
 "cells": [
  {
   "cell_type": "code",
   "execution_count": 1,
   "metadata": {},
   "outputs": [
    {
     "name": "stdout",
     "output_type": "stream",
     "text": [
      "Wed Aug 25 15:13:42 2021       \r\n",
      "+-----------------------------------------------------------------------------+\r\n",
      "| NVIDIA-SMI 460.32.03    Driver Version: 460.32.03    CUDA Version: 11.2     |\r\n",
      "|-------------------------------+----------------------+----------------------+\r\n",
      "| GPU  Name        Persistence-M| Bus-Id        Disp.A | Volatile Uncorr. ECC |\r\n",
      "| Fan  Temp  Perf  Pwr:Usage/Cap|         Memory-Usage | GPU-Util  Compute M. |\r\n",
      "|                               |                      |               MIG M. |\r\n",
      "|===============================+======================+======================|\r\n",
      "|   0  TITAN RTX           On   | 00000000:65:00.0  On |                  N/A |\r\n",
      "| 41%   36C    P8    20W / 280W |    697MiB / 24217MiB |      2%      Default |\r\n",
      "|                               |                      |                  N/A |\r\n",
      "+-------------------------------+----------------------+----------------------+\r\n",
      "                                                                               \r\n",
      "+-----------------------------------------------------------------------------+\r\n",
      "| Processes:                                                                  |\r\n",
      "|  GPU   GI   CI        PID   Type   Process name                  GPU Memory |\r\n",
      "|        ID   ID                                                   Usage      |\r\n",
      "|=============================================================================|\r\n",
      "|    0   N/A  N/A      1607      G   /usr/lib/xorg/Xorg                 40MiB |\r\n",
      "|    0   N/A  N/A      1801      G   /usr/bin/gnome-shell              214MiB |\r\n",
      "|    0   N/A  N/A      2582      G   /usr/lib/xorg/Xorg                 40MiB |\r\n",
      "|    0   N/A  N/A      2612      G   /usr/bin/gnome-shell              117MiB |\r\n",
      "|    0   N/A  N/A      2811      G   /usr/lib/xorg/Xorg                240MiB |\r\n",
      "|    0   N/A  N/A      2945      G   /usr/bin/gnome-shell               35MiB |\r\n",
      "|    0   N/A  N/A      4983      G   /usr/lib/firefox/firefox            3MiB |\r\n",
      "+-----------------------------------------------------------------------------+\r\n"
     ]
    }
   ],
   "source": [
    "!nvidia-smi"
   ]
  },
  {
   "cell_type": "code",
   "execution_count": 2,
   "metadata": {},
   "outputs": [],
   "source": [
    "import os\n",
    "from glob import glob\n",
    "import numpy as np\n",
    "import nibabel as nib\n",
    "import torch\n",
    "import pandas as pd\n",
    "from torch import nn\n",
    "from torch import optim\n",
    "from torch.utils.data import TensorDataset, DataLoader, Dataset\n",
    "from torch.autograd import Variable\n",
    "from torchvision import transforms\n",
    "import torch.nn as nn\n",
    "from sklearn.metrics import roc_auc_score, average_precision_score\n",
    "import tqdm\n",
    "from operator import add"
   ]
  },
  {
   "cell_type": "code",
   "execution_count": 3,
   "metadata": {},
   "outputs": [],
   "source": [
    "import easydict"
   ]
  },
  {
   "cell_type": "code",
   "execution_count": 4,
   "metadata": {},
   "outputs": [],
   "source": [
    "dcm_path = '/home/chaeeun/MRI100_NECKTOFMRA/*'\n",
    "nii_path = '/home/chaeeun/Desktop/brain disease prediction/MRI100_NECKTOFMRA_niis'"
   ]
  },
  {
   "cell_type": "code",
   "execution_count": 5,
   "metadata": {},
   "outputs": [],
   "source": [
    "dcm_list_path = '/home/chaeeun/MRI100_NECKTOFMRA'\n",
    "dcm_list =  os.listdir(dcm_list_path)\n",
    "dcm_list.sort()"
   ]
  },
  {
   "cell_type": "code",
   "execution_count": 5,
   "metadata": {},
   "outputs": [],
   "source": [
    "# #dcm --> nii code\n",
    "# #for i, patient in enumerate(glob(dcm_path)):nonononononono\n",
    "# for f in dcm_list:\n",
    "#     dicom2nifti.dicom_series_to_nifti(dcm_list_path +'/'+ f, os.path.join(nii_path, f + '.nii.gz'))#nii_path에 파일 추가"
   ]
  },
  {
   "cell_type": "code",
   "execution_count": 96,
   "metadata": {},
   "outputs": [],
   "source": [
    "# nib.save(sliced_data, '/home/chaeeun/Desktop/sliced_nii.nii.gz')#for checking well-sliced"
   ]
  },
  {
   "cell_type": "code",
   "execution_count": 6,
   "metadata": {},
   "outputs": [
    {
     "data": {
      "text/plain": [
       "(100, '14090110_20180523_095025_MR.nii.gz')"
      ]
     },
     "execution_count": 6,
     "metadata": {},
     "output_type": "execute_result"
    }
   ],
   "source": [
    "nii_path = '/home/chaeeun/Desktop/brain disease prediction/MRI100_NECKTOFMRA_niis/'\n",
    "files = os.listdir(nii_path)\n",
    "files.sort()\n",
    "files = files[1:]#ipynb_checkpoints file name remove...\n",
    "len(files), files[0]"
   ]
  },
  {
   "cell_type": "code",
   "execution_count": 8,
   "metadata": {},
   "outputs": [],
   "source": [
    "data = []\n",
    "for f in files:\n",
    "    path = os.path.join(nii_path, f)\n",
    "    img = nib.load(path)\n",
    "    sliced_img = img.slicer[190:330, 220:350, 70:220]\n",
    "    img = sliced_img.get_fdata()\n",
    "    img = np.asarray(np.float32(img))\n",
    "    img = img.reshape(1, 140, 130, 150)\n",
    "    data.append(img)"
   ]
  },
  {
   "cell_type": "code",
   "execution_count": 9,
   "metadata": {},
   "outputs": [
    {
     "data": {
      "text/plain": [
       "(100, list)"
      ]
     },
     "execution_count": 9,
     "metadata": {},
     "output_type": "execute_result"
    }
   ],
   "source": [
    "len(data), type(data)"
   ]
  },
  {
   "cell_type": "code",
   "execution_count": 10,
   "metadata": {},
   "outputs": [],
   "source": [
    "#torch.cuda.is_available(), torch.cuda.device_count(), torch.cuda.get_device_name(0), torch.cuda.current_device()"
   ]
  },
  {
   "cell_type": "code",
   "execution_count": 11,
   "metadata": {},
   "outputs": [],
   "source": [
    "#to tensor& gpu\n",
    "data = np.array(data, dtype='float32') \n",
    "# train_X = torch.from_numpy(data)\n",
    "\n",
    "# train_X = train_X.type(torch.cuda.FloatTensor) #making a 32-floating point gpu tensor\n",
    "# train_X.shape"
   ]
  },
  {
   "cell_type": "code",
   "execution_count": 12,
   "metadata": {},
   "outputs": [
    {
     "data": {
      "text/html": [
       "<div>\n",
       "<style scoped>\n",
       "    .dataframe tbody tr th:only-of-type {\n",
       "        vertical-align: middle;\n",
       "    }\n",
       "\n",
       "    .dataframe tbody tr th {\n",
       "        vertical-align: top;\n",
       "    }\n",
       "\n",
       "    .dataframe thead th {\n",
       "        text-align: right;\n",
       "    }\n",
       "</style>\n",
       "<table border=\"1\" class=\"dataframe\">\n",
       "  <thead>\n",
       "    <tr style=\"text-align: right;\">\n",
       "      <th></th>\n",
       "      <th>FOLDERNAME</th>\n",
       "      <th>Cerebral WM Hypointensities* Total Percent Of Icv</th>\n",
       "      <th>Cortical Gray Matter Total Percent Of Icv</th>\n",
       "      <th>Ventricle Total Percent Of Icv</th>\n",
       "      <th>Cerebral White Matter Total Percent Of Icv</th>\n",
       "      <th>Whole Brain Total Percent Of Icv</th>\n",
       "    </tr>\n",
       "  </thead>\n",
       "  <tbody>\n",
       "    <tr>\n",
       "      <th>0</th>\n",
       "      <td>14090110_20180523_095025_MR</td>\n",
       "      <td>0.0249</td>\n",
       "      <td>30.7874</td>\n",
       "      <td>1.9233</td>\n",
       "      <td>30.4758</td>\n",
       "      <td>75.8345</td>\n",
       "    </tr>\n",
       "    <tr>\n",
       "      <th>1</th>\n",
       "      <td>14152551_20180129_085254_MR</td>\n",
       "      <td>0.1131</td>\n",
       "      <td>31.9052</td>\n",
       "      <td>2.6646</td>\n",
       "      <td>30.7423</td>\n",
       "      <td>77.1605</td>\n",
       "    </tr>\n",
       "    <tr>\n",
       "      <th>2</th>\n",
       "      <td>15168092_20180223_091548_MR</td>\n",
       "      <td>0.1630</td>\n",
       "      <td>30.3495</td>\n",
       "      <td>3.3834</td>\n",
       "      <td>28.8604</td>\n",
       "      <td>71.4136</td>\n",
       "    </tr>\n",
       "    <tr>\n",
       "      <th>3</th>\n",
       "      <td>16657951_20180529_103505_MR</td>\n",
       "      <td>0.0740</td>\n",
       "      <td>30.7348</td>\n",
       "      <td>2.1675</td>\n",
       "      <td>31.3847</td>\n",
       "      <td>75.1116</td>\n",
       "    </tr>\n",
       "    <tr>\n",
       "      <th>4</th>\n",
       "      <td>16965739_20180419_103601_MR</td>\n",
       "      <td>0.0991</td>\n",
       "      <td>30.3336</td>\n",
       "      <td>2.2278</td>\n",
       "      <td>30.6224</td>\n",
       "      <td>75.7314</td>\n",
       "    </tr>\n",
       "    <tr>\n",
       "      <th>...</th>\n",
       "      <td>...</td>\n",
       "      <td>...</td>\n",
       "      <td>...</td>\n",
       "      <td>...</td>\n",
       "      <td>...</td>\n",
       "      <td>...</td>\n",
       "    </tr>\n",
       "    <tr>\n",
       "      <th>95</th>\n",
       "      <td>37754277_20180525_095533_MR</td>\n",
       "      <td>0.0419</td>\n",
       "      <td>32.1248</td>\n",
       "      <td>2.3468</td>\n",
       "      <td>31.0151</td>\n",
       "      <td>77.1214</td>\n",
       "    </tr>\n",
       "    <tr>\n",
       "      <th>96</th>\n",
       "      <td>37839123_20180323_083328_MR</td>\n",
       "      <td>0.0416</td>\n",
       "      <td>31.6745</td>\n",
       "      <td>2.4120</td>\n",
       "      <td>29.5286</td>\n",
       "      <td>75.8071</td>\n",
       "    </tr>\n",
       "    <tr>\n",
       "      <th>97</th>\n",
       "      <td>37843254_20180502_085729_MR</td>\n",
       "      <td>0.1920</td>\n",
       "      <td>32.0577</td>\n",
       "      <td>2.9788</td>\n",
       "      <td>27.7734</td>\n",
       "      <td>73.9830</td>\n",
       "    </tr>\n",
       "    <tr>\n",
       "      <th>98</th>\n",
       "      <td>38008559_20180223_105704_MR</td>\n",
       "      <td>0.0199</td>\n",
       "      <td>34.3086</td>\n",
       "      <td>1.7611</td>\n",
       "      <td>30.0620</td>\n",
       "      <td>77.9791</td>\n",
       "    </tr>\n",
       "    <tr>\n",
       "      <th>99</th>\n",
       "      <td>38228601_20180108_091749_MR</td>\n",
       "      <td>0.0520</td>\n",
       "      <td>33.3315</td>\n",
       "      <td>1.7659</td>\n",
       "      <td>31.4596</td>\n",
       "      <td>78.4806</td>\n",
       "    </tr>\n",
       "  </tbody>\n",
       "</table>\n",
       "<p>100 rows × 6 columns</p>\n",
       "</div>"
      ],
      "text/plain": [
       "                     FOLDERNAME  \\\n",
       "0   14090110_20180523_095025_MR   \n",
       "1   14152551_20180129_085254_MR   \n",
       "2   15168092_20180223_091548_MR   \n",
       "3   16657951_20180529_103505_MR   \n",
       "4   16965739_20180419_103601_MR   \n",
       "..                          ...   \n",
       "95  37754277_20180525_095533_MR   \n",
       "96  37839123_20180323_083328_MR   \n",
       "97  37843254_20180502_085729_MR   \n",
       "98  38008559_20180223_105704_MR   \n",
       "99  38228601_20180108_091749_MR   \n",
       "\n",
       "    Cerebral WM Hypointensities* Total Percent Of Icv  \\\n",
       "0                                              0.0249   \n",
       "1                                              0.1131   \n",
       "2                                              0.1630   \n",
       "3                                              0.0740   \n",
       "4                                              0.0991   \n",
       "..                                                ...   \n",
       "95                                             0.0419   \n",
       "96                                             0.0416   \n",
       "97                                             0.1920   \n",
       "98                                             0.0199   \n",
       "99                                             0.0520   \n",
       "\n",
       "    Cortical Gray Matter Total Percent Of Icv  Ventricle Total Percent Of Icv  \\\n",
       "0                                     30.7874                          1.9233   \n",
       "1                                     31.9052                          2.6646   \n",
       "2                                     30.3495                          3.3834   \n",
       "3                                     30.7348                          2.1675   \n",
       "4                                     30.3336                          2.2278   \n",
       "..                                        ...                             ...   \n",
       "95                                    32.1248                          2.3468   \n",
       "96                                    31.6745                          2.4120   \n",
       "97                                    32.0577                          2.9788   \n",
       "98                                    34.3086                          1.7611   \n",
       "99                                    33.3315                          1.7659   \n",
       "\n",
       "    Cerebral White Matter Total Percent Of Icv  \\\n",
       "0                                      30.4758   \n",
       "1                                      30.7423   \n",
       "2                                      28.8604   \n",
       "3                                      31.3847   \n",
       "4                                      30.6224   \n",
       "..                                         ...   \n",
       "95                                     31.0151   \n",
       "96                                     29.5286   \n",
       "97                                     27.7734   \n",
       "98                                     30.0620   \n",
       "99                                     31.4596   \n",
       "\n",
       "    Whole Brain Total Percent Of Icv  \n",
       "0                            75.8345  \n",
       "1                            77.1605  \n",
       "2                            71.4136  \n",
       "3                            75.1116  \n",
       "4                            75.7314  \n",
       "..                               ...  \n",
       "95                           77.1214  \n",
       "96                           75.8071  \n",
       "97                           73.9830  \n",
       "98                           77.9791  \n",
       "99                           78.4806  \n",
       "\n",
       "[100 rows x 6 columns]"
      ]
     },
     "execution_count": 12,
     "metadata": {},
     "output_type": "execute_result"
    }
   ],
   "source": [
    "label_data = pd.read_excel('/home/chaeeun/Desktop/brain disease prediction/100_Neuroquant5.xlsx') \n",
    "label_data"
   ]
  },
  {
   "cell_type": "code",
   "execution_count": 13,
   "metadata": {},
   "outputs": [
    {
     "data": {
      "text/plain": [
       "numpy.ndarray"
      ]
     },
     "execution_count": 13,
     "metadata": {},
     "output_type": "execute_result"
    }
   ],
   "source": [
    "del label_data['FOLDERNAME']\n",
    "label_data\n",
    "label = label_data.to_numpy()\n",
    "type(label)"
   ]
  },
  {
   "cell_type": "code",
   "execution_count": 157,
   "metadata": {},
   "outputs": [
    {
     "data": {
      "text/plain": [
       "array([0.0249, 0.1131, 0.163 , 0.074 , 0.0991, 0.0867, 0.0236, 0.0573,\n",
       "       0.0319, 0.0074, 0.0673, 0.0102, 0.0949, 0.    , 0.0575, 0.0462,\n",
       "       0.3219, 0.0147, 0.0765, 0.0266, 0.0463, 0.0886, 0.0065, 0.0397,\n",
       "       0.0551, 0.0885, 0.0647, 0.0304, 0.9037, 0.2368, 0.0775, 1.1733,\n",
       "       0.0644, 0.0824, 0.0395, 0.6179, 0.2291, 0.139 , 0.0161, 0.0306,\n",
       "       0.244 , 0.0323, 0.0077, 0.0239, 0.0717, 0.0122, 0.0159, 0.0468,\n",
       "       0.0505, 0.0477, 0.0079, 0.103 , 0.024 , 0.0843, 0.025 , 0.0246,\n",
       "       0.0287, 0.0942, 0.0363, 0.0395, 0.0351, 0.0151, 0.0091, 0.0152,\n",
       "       0.1567, 0.2033, 0.2524, 0.0365, 0.0365, 0.0275, 0.0377, 0.0413,\n",
       "       0.    , 0.0785, 0.0355, 0.0617, 0.0279, 0.0115, 0.0376, 0.008 ,\n",
       "       0.0503, 0.0799, 0.0213, 0.0768, 0.01  , 0.072 , 0.0098, 0.1616,\n",
       "       0.0608, 0.0766, 0.0802, 0.0807, 0.0229, 0.0536, 0.067 , 0.0419,\n",
       "       0.0416, 0.192 , 0.0199, 0.052 ], dtype=float32)"
      ]
     },
     "execution_count": 157,
     "metadata": {},
     "output_type": "execute_result"
    }
   ],
   "source": [
    "label[:,0]"
   ]
  },
  {
   "cell_type": "code",
   "execution_count": 230,
   "metadata": {
    "scrolled": true
   },
   "outputs": [
    {
     "data": {
      "image/png": "[encoded data removed]",
      "text/plain": [
       "<Figure size 640x480 with 1 Axes>"
      ]
     },
     "metadata": {},
     "output_type": "display_data"
    },
    {
     "name": "stdout",
     "output_type": "stream",
     "text": [
      "mean:  0.08845101\n",
      "std:  0.15947312\n"
     ]
    },
    {
     "data": {
      "image/png": "[encoded data removed]",
      "text/plain": [
       "<Figure size 640x480 with 1 Axes>"
      ]
     },
     "metadata": {},
     "output_type": "display_data"
    },
    {
     "name": "stdout",
     "output_type": "stream",
     "text": [
      "mean:  32.306248\n",
      "std:  1.6707758\n"
     ]
    },
    {
     "data": {
      "image/png": "[encoded data removed]",
      "text/plain": [
       "<Figure size 640x480 with 1 Axes>"
      ]
     },
     "metadata": {},
     "output_type": "display_data"
    },
    {
     "name": "stdout",
     "output_type": "stream",
     "text": [
      "mean:  2.516097\n",
      "std:  1.1953615\n"
     ]
    },
    {
     "data": {
      "image/png": "[encoded data removed]",
      "text/plain": [
       "<Figure size 640x480 with 1 Axes>"
      ]
     },
     "metadata": {},
     "output_type": "display_data"
    },
    {
     "name": "stdout",
     "output_type": "stream",
     "text": [
      "mean:  30.239126\n",
      "std:  1.4485773\n"
     ]
    },
    {
     "data": {
      "image/png": "[encoded data removed]",
      "text/plain": [
       "<Figure size 640x480 with 1 Axes>"
      ]
     },
     "metadata": {},
     "output_type": "display_data"
    },
    {
     "name": "stdout",
     "output_type": "stream",
     "text": [
      "mean:  76.38823\n",
      "std:  2.5952046\n"
     ]
    }
   ],
   "source": [
    "for i in range(5):\n",
    "    plt.hist(label[:,i], bins = 50)\n",
    "    plt.show()\n",
    "    print(\"mean: \", label[:,i].mean())\n",
    "    print(\"std: \",label[:, i].std())"
   ]
  },
  {
   "cell_type": "code",
   "execution_count": 176,
   "metadata": {},
   "outputs": [
    {
     "data": {
      "text/plain": [
       "36.9758"
      ]
     },
     "execution_count": 176,
     "metadata": {},
     "output_type": "execute_result"
    }
   ],
   "source": [
    "max(label[:,1])"
   ]
  },
  {
   "cell_type": "code",
   "execution_count": 14,
   "metadata": {},
   "outputs": [
    {
     "data": {
      "text/plain": [
       "(100, numpy.ndarray)"
      ]
     },
     "execution_count": 14,
     "metadata": {},
     "output_type": "execute_result"
    }
   ],
   "source": [
    "label = np.array(label, dtype = 'float32')\n",
    "\n",
    "len(label), type(label)\n"
   ]
  },
  {
   "cell_type": "code",
   "execution_count": 124,
   "metadata": {},
   "outputs": [],
   "source": [
    "X_train = data[:75]\n",
    "X_test = data[75:]\n",
    "y_train = label[:75]\n",
    "y_test = label[75:]"
   ]
  },
  {
   "cell_type": "code",
   "execution_count": 125,
   "metadata": {},
   "outputs": [
    {
     "data": {
      "text/plain": [
       "(numpy.ndarray, numpy.ndarray)"
      ]
     },
     "execution_count": 125,
     "metadata": {},
     "output_type": "execute_result"
    }
   ],
   "source": [
    "len(X_train), len(X_test), len(y_train), len(y_test)\n",
    "type(X_train), type(y_train)"
   ]
  },
  {
   "cell_type": "code",
   "execution_count": 126,
   "metadata": {},
   "outputs": [],
   "source": [
    "datadict = {'X_train': X_train,\n",
    "           'y_train' : y_train,\n",
    "           'X_test': X_test,\n",
    "            'y_test': y_test\n",
    "           }"
   ]
  },
  {
   "cell_type": "code",
   "execution_count": 127,
   "metadata": {},
   "outputs": [],
   "source": [
    "device = torch.device('cuda:0' if torch.cuda.is_available() else 'cpu')"
   ]
  },
  {
   "cell_type": "code",
   "execution_count": 128,
   "metadata": {},
   "outputs": [],
   "source": [
    "class mridataset(Dataset):\n",
    "    def __init__(self, data, data_type):\n",
    "        if data_type == 'train':\n",
    "            self.X = data['X_train']\n",
    "            self.y = data['y_train']\n",
    "        elif data_type == 'test':\n",
    "            self.X = data['X_test']\n",
    "            self.y = data['y_test']\n",
    "            \n",
    "        assert len(self.X) == len(self.y), \"length should be same between input and label\"\n",
    "        \n",
    "        self.X = torch.FloatTensor(self.X)#cpu tensor\n",
    "        self.y = torch.FloatTensor(self.y)#cpu tensor\n",
    "    \n",
    "    def __len__(self):\n",
    "        return len(self.y)\n",
    "    \n",
    "    def __getitem__(self, index):\n",
    "        X = self.X[index]\n",
    "        y = self.y[index]\n",
    "        return {\n",
    "            'X': X,\n",
    "            'y_target': y\n",
    "        }"
   ]
  },
  {
   "cell_type": "code",
   "execution_count": 129,
   "metadata": {},
   "outputs": [
    {
     "data": {
      "text/plain": [
       "'/home/chaeeun/Desktop/brain disease prediction'"
      ]
     },
     "execution_count": 129,
     "metadata": {},
     "output_type": "execute_result"
    }
   ],
   "source": [
    "os.getcwd()"
   ]
  },
  {
   "cell_type": "code",
   "execution_count": null,
   "metadata": {},
   "outputs": [],
   "source": [
    "###############################practice###############learning about __getitem__"
   ]
  },
  {
   "cell_type": "code",
   "execution_count": 23,
   "metadata": {},
   "outputs": [],
   "source": [
    "exampledataset = mridataset(datadict, data_type = 'test')"
   ]
  },
  {
   "cell_type": "code",
   "execution_count": 27,
   "metadata": {},
   "outputs": [
    {
     "data": {
      "text/plain": [
       "(20, __main__.mridataset, <__main__.mridataset at 0x7f1f28b1f190>)"
      ]
     },
     "execution_count": 27,
     "metadata": {},
     "output_type": "execute_result"
    }
   ],
   "source": [
    "len(exampledataset), type(exampledataset),exampledataset"
   ]
  },
  {
   "cell_type": "code",
   "execution_count": 31,
   "metadata": {},
   "outputs": [
    {
     "data": {
      "text/plain": [
       "(torch.Size([1, 140, 130, 150]), torch.Size([5]))"
      ]
     },
     "execution_count": 31,
     "metadata": {},
     "output_type": "execute_result"
    }
   ],
   "source": [
    "exampledataset[9]['X'].shape, exampledataset[9]['y_target'].shape"
   ]
  },
  {
   "cell_type": "code",
   "execution_count": null,
   "metadata": {},
   "outputs": [],
   "source": [
    "######################################################"
   ]
  },
  {
   "cell_type": "markdown",
   "metadata": {},
   "source": [
    "#trainset done...!"
   ]
  },
  {
   "cell_type": "code",
   "execution_count": 130,
   "metadata": {},
   "outputs": [],
   "source": [
    "#<<resnet 3d>>\n",
    "#마지막의 fully connected part는 2d 부분의 코드들을 참고해서 만들것!!"
   ]
  },
  {
   "cell_type": "code",
   "execution_count": 256,
   "metadata": {},
   "outputs": [],
   "source": [
    "import math\n",
    "from functools import partial\n",
    "\n",
    "import torch\n",
    "import torch.nn as nn\n",
    "import torch.nn.functional as F\n",
    "\n",
    "\n",
    "def get_inplanes():\n",
    "    return [64, 128, 256, 512]\n",
    "\n",
    "\n",
    "def conv3x3x3(in_planes, out_planes, stride=1):\n",
    "    return nn.Conv3d(in_planes,\n",
    "                     out_planes,\n",
    "                     kernel_size=3,\n",
    "                     stride=stride,\n",
    "                     padding=1,\n",
    "                     bias=False)\n",
    "\n",
    "\n",
    "def conv1x1x1(in_planes, out_planes, stride=1):\n",
    "    return nn.Conv3d(in_planes,\n",
    "                     out_planes,\n",
    "                     kernel_size=1,\n",
    "                     stride=stride,\n",
    "                     bias=False)\n",
    "\n",
    "\n",
    "class BasicBlock(nn.Module):\n",
    "    expansion = 1\n",
    "\n",
    "    def __init__(self, in_planes, planes, stride=1, downsample=None):\n",
    "        super().__init__()\n",
    "\n",
    "        self.conv1 = conv3x3x3(in_planes, planes, stride)\n",
    "        self.bn1 = nn.BatchNorm3d(planes)\n",
    "        self.relu = nn.ReLU(inplace=True)\n",
    "        self.conv2 = conv3x3x3(planes, planes)\n",
    "        self.bn2 = nn.BatchNorm3d(planes)\n",
    "        self.downsample = downsample\n",
    "        self.stride = stride\n",
    "\n",
    "    def forward(self, x):\n",
    "        residual = x\n",
    "\n",
    "        out = self.conv1(x)\n",
    "        out = self.bn1(out)\n",
    "        out = self.relu(out)\n",
    "\n",
    "        out = self.conv2(out)\n",
    "        out = self.bn2(out)\n",
    "\n",
    "        if self.downsample is not None:\n",
    "            residual = self.downsample(x)\n",
    "\n",
    "        out += residual\n",
    "        out = self.relu(out)\n",
    "\n",
    "        return out\n",
    "\n",
    "\n",
    "class Bottleneck(nn.Module):\n",
    "    expansion = 4\n",
    "\n",
    "    def __init__(self, in_planes, planes, stride=1, downsample=None):\n",
    "        super().__init__()\n",
    "\n",
    "        self.conv1 = conv1x1x1(in_planes, planes)\n",
    "        self.bn1 = nn.BatchNorm3d(planes)\n",
    "        self.conv2 = conv3x3x3(planes, planes, stride)\n",
    "        self.bn2 = nn.BatchNorm3d(planes)\n",
    "        self.conv3 = conv1x1x1(planes, planes * self.expansion)\n",
    "        self.bn3 = nn.BatchNorm3d(planes * self.expansion)\n",
    "        self.relu = nn.ReLU(inplace=True)\n",
    "        self.downsample = downsample\n",
    "        self.stride = stride\n",
    "\n",
    "    def forward(self, x):\n",
    "        residual = x\n",
    "\n",
    "        out = self.conv1(x)\n",
    "        out = self.bn1(out)\n",
    "        out = self.relu(out)\n",
    "\n",
    "        out = self.conv2(out)\n",
    "        out = self.bn2(out)\n",
    "        out = self.relu(out)\n",
    "\n",
    "        out = self.conv3(out)\n",
    "        out = self.bn3(out)\n",
    "\n",
    "        if self.downsample is not None:\n",
    "            residual = self.downsample(x)\n",
    "\n",
    "        out += residual\n",
    "        out = self.relu(out)\n",
    "\n",
    "        return out\n",
    "\n",
    "\n",
    "class ResNet(nn.Module):\n",
    "\n",
    "    def __init__(self,\n",
    "                 block,\n",
    "                 layers,\n",
    "                 block_inplanes,\n",
    "                 n_input_channels=1,\n",
    "                 conv1_t_size=7,\n",
    "                 conv1_t_stride=1,\n",
    "                 no_max_pool=False,\n",
    "                 shortcut_type='B',\n",
    "                 widen_factor=1.0,\n",
    "                 n_classes=5):\n",
    "        super().__init__()\n",
    "\n",
    "        block_inplanes = [int(x * widen_factor) for x in block_inplanes]\n",
    "\n",
    "        self.in_planes = block_inplanes[0]\n",
    "        self.no_max_pool = no_max_pool\n",
    "\n",
    "        self.conv1 = nn.Conv3d(n_input_channels,\n",
    "                               self.in_planes,\n",
    "                               kernel_size=(conv1_t_size, 7, 7),\n",
    "                               stride=(conv1_t_stride, 2, 2),\n",
    "                               padding=(conv1_t_size // 2, 3, 3),\n",
    "                               bias=False)\n",
    "        self.bn1 = nn.BatchNorm3d(self.in_planes)\n",
    "        self.relu = nn.ReLU(inplace=True)\n",
    "        self.maxpool = nn.MaxPool3d(kernel_size=3, stride=2, padding=1)\n",
    "        self.layer1 = self._make_layer(block, block_inplanes[0], layers[0],\n",
    "                                       shortcut_type)\n",
    "        self.layer2 = self._make_layer(block,\n",
    "                                       block_inplanes[1],\n",
    "                                       layers[1],\n",
    "                                       shortcut_type,\n",
    "                                       stride=2)\n",
    "        self.layer3 = self._make_layer(block,\n",
    "                                       block_inplanes[2],\n",
    "                                       layers[2],\n",
    "                                       shortcut_type,\n",
    "                                       stride=2)\n",
    "        self.layer4 = self._make_layer(block,\n",
    "                                       block_inplanes[3],\n",
    "                                       layers[3],\n",
    "                                       shortcut_type,\n",
    "                                       stride=2)\n",
    "\n",
    "        self.avgpool = nn.AdaptiveAvgPool3d((1, 1, 1))\n",
    "        self.fc = nn.Linear(block_inplanes[3] * block.expansion, n_classes)\n",
    "\n",
    "        for m in self.modules():\n",
    "            if isinstance(m, nn.Conv3d):\n",
    "                nn.init.kaiming_normal_(m.weight,\n",
    "                                        mode='fan_out',\n",
    "                                        nonlinearity='relu')\n",
    "            elif isinstance(m, nn.BatchNorm3d):\n",
    "                nn.init.constant_(m.weight, 1)\n",
    "                nn.init.constant_(m.bias, 0)\n",
    "\n",
    "    def _downsample_basic_block(self, x, planes, stride):\n",
    "        out = F.avg_pool3d(x, kernel_size=1, stride=stride)\n",
    "        zero_pads = torch.zeros(out.size(0), planes - out.size(1), out.size(2),\n",
    "                                out.size(3), out.size(4))\n",
    "        if isinstance(out.data, torch.cuda.FloatTensor):\n",
    "            zero_pads = zero_pads.cuda()\n",
    "\n",
    "        out = torch.cat([out.data, zero_pads], dim=1)\n",
    "\n",
    "        return out\n",
    "\n",
    "    def _make_layer(self, block, planes, blocks, shortcut_type, stride=1):\n",
    "        downsample = None\n",
    "        if stride != 1 or self.in_planes != planes * block.expansion:\n",
    "            if shortcut_type == 'A':\n",
    "                downsample = partial(self._downsample_basic_block,\n",
    "                                     planes=planes * block.expansion,\n",
    "                                     stride=stride)\n",
    "            else:\n",
    "                downsample = nn.Sequential(\n",
    "                    conv1x1x1(self.in_planes, planes * block.expansion, stride),\n",
    "                    nn.BatchNorm3d(planes * block.expansion))\n",
    "\n",
    "        layers = []\n",
    "        layers.append(\n",
    "            block(in_planes=self.in_planes,\n",
    "                  planes=planes,\n",
    "                  stride=stride,\n",
    "                  downsample=downsample))\n",
    "        self.in_planes = planes * block.expansion\n",
    "        for i in range(1, blocks):\n",
    "            layers.append(block(self.in_planes, planes))\n",
    "\n",
    "        return nn.Sequential(*layers)\n",
    "\n",
    "    def forward(self, x):\n",
    "        x = self.conv1(x)\n",
    "        x = self.bn1(x)\n",
    "        x = self.relu(x)\n",
    "        if not self.no_max_pool:\n",
    "            x = self.maxpool(x)\n",
    "\n",
    "        x = self.layer1(x)\n",
    "        x = self.layer2(x)\n",
    "        x = self.layer3(x)\n",
    "        x = self.layer4(x)\n",
    "\n",
    "        x = self.avgpool(x)\n",
    "\n",
    "        x = x.view(x.size(0), -1)\n",
    "        x = self.fc(x)\n",
    "\n",
    "        return x\n",
    "\n",
    "\n",
    "def generate_model(model_depth, **kwargs):\n",
    "    assert model_depth in [10, 18, 34, 50, 101, 152, 200]\n",
    "\n",
    "    if model_depth == 10:\n",
    "        model = ResNet(BasicBlock, [1, 1, 1, 1], get_inplanes(), **kwargs)\n",
    "    elif model_depth == 18:\n",
    "        model = ResNet(BasicBlock, [2, 2, 2, 2], get_inplanes(), **kwargs)\n",
    "    elif model_depth == 34:\n",
    "        model = ResNet(BasicBlock, [3, 4, 6, 3], get_inplanes(), **kwargs)\n",
    "    elif model_depth == 50:\n",
    "        model = ResNet(Bottleneck, [3, 4, 6, 3], get_inplanes(), **kwargs)\n",
    "    elif model_depth == 101:\n",
    "        model = ResNet(Bottleneck, [3, 4, 23, 3], get_inplanes(), **kwargs)\n",
    "    elif model_depth == 152:\n",
    "        model = ResNet(Bottleneck, [3, 8, 36, 3], get_inplanes(), **kwargs)\n",
    "    elif model_depth == 200:\n",
    "        model = ResNet(Bottleneck, [3, 24, 36, 3], get_inplanes(), **kwargs)\n",
    "\n",
    "    return model"
   ]
  },
  {
   "cell_type": "code",
   "execution_count": 307,
   "metadata": {},
   "outputs": [
    {
     "data": {
      "text/plain": [
       "ResNet(\n",
       "  (conv1): Conv3d(1, 64, kernel_size=(7, 7, 7), stride=(1, 2, 2), padding=(3, 3, 3), bias=False)\n",
       "  (bn1): BatchNorm3d(64, eps=1e-05, momentum=0.1, affine=True, track_running_stats=True)\n",
       "  (relu): ReLU(inplace=True)\n",
       "  (maxpool): MaxPool3d(kernel_size=3, stride=2, padding=1, dilation=1, ceil_mode=False)\n",
       "  (layer1): Sequential(\n",
       "    (0): BasicBlock(\n",
       "      (conv1): Conv3d(64, 64, kernel_size=(3, 3, 3), stride=(1, 1, 1), padding=(1, 1, 1), bias=False)\n",
       "      (bn1): BatchNorm3d(64, eps=1e-05, momentum=0.1, affine=True, track_running_stats=True)\n",
       "      (relu): ReLU(inplace=True)\n",
       "      (conv2): Conv3d(64, 64, kernel_size=(3, 3, 3), stride=(1, 1, 1), padding=(1, 1, 1), bias=False)\n",
       "      (bn2): BatchNorm3d(64, eps=1e-05, momentum=0.1, affine=True, track_running_stats=True)\n",
       "    )\n",
       "    (1): BasicBlock(\n",
       "      (conv1): Conv3d(64, 64, kernel_size=(3, 3, 3), stride=(1, 1, 1), padding=(1, 1, 1), bias=False)\n",
       "      (bn1): BatchNorm3d(64, eps=1e-05, momentum=0.1, affine=True, track_running_stats=True)\n",
       "      (relu): ReLU(inplace=True)\n",
       "      (conv2): Conv3d(64, 64, kernel_size=(3, 3, 3), stride=(1, 1, 1), padding=(1, 1, 1), bias=False)\n",
       "      (bn2): BatchNorm3d(64, eps=1e-05, momentum=0.1, affine=True, track_running_stats=True)\n",
       "    )\n",
       "  )\n",
       "  (layer2): Sequential(\n",
       "    (0): BasicBlock(\n",
       "      (conv1): Conv3d(64, 128, kernel_size=(3, 3, 3), stride=(2, 2, 2), padding=(1, 1, 1), bias=False)\n",
       "      (bn1): BatchNorm3d(128, eps=1e-05, momentum=0.1, affine=True, track_running_stats=True)\n",
       "      (relu): ReLU(inplace=True)\n",
       "      (conv2): Conv3d(128, 128, kernel_size=(3, 3, 3), stride=(1, 1, 1), padding=(1, 1, 1), bias=False)\n",
       "      (bn2): BatchNorm3d(128, eps=1e-05, momentum=0.1, affine=True, track_running_stats=True)\n",
       "      (downsample): Sequential(\n",
       "        (0): Conv3d(64, 128, kernel_size=(1, 1, 1), stride=(2, 2, 2), bias=False)\n",
       "        (1): BatchNorm3d(128, eps=1e-05, momentum=0.1, affine=True, track_running_stats=True)\n",
       "      )\n",
       "    )\n",
       "    (1): BasicBlock(\n",
       "      (conv1): Conv3d(128, 128, kernel_size=(3, 3, 3), stride=(1, 1, 1), padding=(1, 1, 1), bias=False)\n",
       "      (bn1): BatchNorm3d(128, eps=1e-05, momentum=0.1, affine=True, track_running_stats=True)\n",
       "      (relu): ReLU(inplace=True)\n",
       "      (conv2): Conv3d(128, 128, kernel_size=(3, 3, 3), stride=(1, 1, 1), padding=(1, 1, 1), bias=False)\n",
       "      (bn2): BatchNorm3d(128, eps=1e-05, momentum=0.1, affine=True, track_running_stats=True)\n",
       "    )\n",
       "  )\n",
       "  (layer3): Sequential(\n",
       "    (0): BasicBlock(\n",
       "      (conv1): Conv3d(128, 256, kernel_size=(3, 3, 3), stride=(2, 2, 2), padding=(1, 1, 1), bias=False)\n",
       "      (bn1): BatchNorm3d(256, eps=1e-05, momentum=0.1, affine=True, track_running_stats=True)\n",
       "      (relu): ReLU(inplace=True)\n",
       "      (conv2): Conv3d(256, 256, kernel_size=(3, 3, 3), stride=(1, 1, 1), padding=(1, 1, 1), bias=False)\n",
       "      (bn2): BatchNorm3d(256, eps=1e-05, momentum=0.1, affine=True, track_running_stats=True)\n",
       "      (downsample): Sequential(\n",
       "        (0): Conv3d(128, 256, kernel_size=(1, 1, 1), stride=(2, 2, 2), bias=False)\n",
       "        (1): BatchNorm3d(256, eps=1e-05, momentum=0.1, affine=True, track_running_stats=True)\n",
       "      )\n",
       "    )\n",
       "    (1): BasicBlock(\n",
       "      (conv1): Conv3d(256, 256, kernel_size=(3, 3, 3), stride=(1, 1, 1), padding=(1, 1, 1), bias=False)\n",
       "      (bn1): BatchNorm3d(256, eps=1e-05, momentum=0.1, affine=True, track_running_stats=True)\n",
       "      (relu): ReLU(inplace=True)\n",
       "      (conv2): Conv3d(256, 256, kernel_size=(3, 3, 3), stride=(1, 1, 1), padding=(1, 1, 1), bias=False)\n",
       "      (bn2): BatchNorm3d(256, eps=1e-05, momentum=0.1, affine=True, track_running_stats=True)\n",
       "    )\n",
       "  )\n",
       "  (layer4): Sequential(\n",
       "    (0): BasicBlock(\n",
       "      (conv1): Conv3d(256, 512, kernel_size=(3, 3, 3), stride=(2, 2, 2), padding=(1, 1, 1), bias=False)\n",
       "      (bn1): BatchNorm3d(512, eps=1e-05, momentum=0.1, affine=True, track_running_stats=True)\n",
       "      (relu): ReLU(inplace=True)\n",
       "      (conv2): Conv3d(512, 512, kernel_size=(3, 3, 3), stride=(1, 1, 1), padding=(1, 1, 1), bias=False)\n",
       "      (bn2): BatchNorm3d(512, eps=1e-05, momentum=0.1, affine=True, track_running_stats=True)\n",
       "      (downsample): Sequential(\n",
       "        (0): Conv3d(256, 512, kernel_size=(1, 1, 1), stride=(2, 2, 2), bias=False)\n",
       "        (1): BatchNorm3d(512, eps=1e-05, momentum=0.1, affine=True, track_running_stats=True)\n",
       "      )\n",
       "    )\n",
       "    (1): BasicBlock(\n",
       "      (conv1): Conv3d(512, 512, kernel_size=(3, 3, 3), stride=(1, 1, 1), padding=(1, 1, 1), bias=False)\n",
       "      (bn1): BatchNorm3d(512, eps=1e-05, momentum=0.1, affine=True, track_running_stats=True)\n",
       "      (relu): ReLU(inplace=True)\n",
       "      (conv2): Conv3d(512, 512, kernel_size=(3, 3, 3), stride=(1, 1, 1), padding=(1, 1, 1), bias=False)\n",
       "      (bn2): BatchNorm3d(512, eps=1e-05, momentum=0.1, affine=True, track_running_stats=True)\n",
       "    )\n",
       "  )\n",
       "  (avgpool): AdaptiveAvgPool3d(output_size=(1, 1, 1))\n",
       "  (fc): Linear(in_features=512, out_features=5, bias=True)\n",
       ")"
      ]
     },
     "execution_count": 307,
     "metadata": {},
     "output_type": "execute_result"
    }
   ],
   "source": [
    "# model.cuda()#모델도 gpu로\n",
    "model = generate_model(18)\n",
    "model.to(device)"
   ]
  },
  {
   "cell_type": "code",
   "execution_count": 309,
   "metadata": {},
   "outputs": [],
   "source": [
    "config = easydict.EasyDict({'n_epoch': 25,\n",
    "                           'batch_size': 8,\n",
    "                           'lr': 1e-3,\n",
    "                           'save_dir':'./',\n",
    "                           'dropout' : 0.3,\n",
    "                            'modelname' : 'resnet18'\n",
    "                           })"
   ]
  },
  {
   "cell_type": "code",
   "execution_count": 310,
   "metadata": {},
   "outputs": [],
   "source": [
    "train_loader = DataLoader(mridataset(datadict, data_type = 'train'), batch_size = config.batch_size, num_workers = 8, shuffle = True)\n",
    "#num_workers: cpu 여러개로 학습을 시켜라(8)\n",
    "test_loader = DataLoader(mridataset(datadict, data_type = 'test'), batch_size = config.batch_size, num_workers = 8, shuffle = False)"
   ]
  },
  {
   "cell_type": "code",
   "execution_count": 311,
   "metadata": {},
   "outputs": [
    {
     "data": {
      "text/plain": [
       "10"
      ]
     },
     "execution_count": 311,
     "metadata": {},
     "output_type": "execute_result"
    }
   ],
   "source": [
    "len(train_loader)"
   ]
  },
  {
   "cell_type": "code",
   "execution_count": 312,
   "metadata": {},
   "outputs": [
    {
     "name": "stdout",
     "output_type": "stream",
     "text": [
      "Model will be saved in ./Model_resnet18_batch_8_lr_0.001\n"
     ]
    }
   ],
   "source": [
    "#save&load path\n",
    "filename = f'Model_{config.modelname}_batch_{config.batch_size}_lr_{config.lr}'\n",
    "output_path = os.path.join(config.save_dir, filename)\n",
    "print('Model will be saved in {}'.format(output_path))"
   ]
  },
  {
   "cell_type": "code",
   "execution_count": 313,
   "metadata": {},
   "outputs": [],
   "source": [
    "#Loss\n",
    "criterion = nn.MSELoss()\n",
    "criterion2 = nn.L1Loss()\n",
    "#optimizer\n",
    "optimizer = torch.optim.Adam(model.parameters(), lr = config.lr)"
   ]
  },
  {
   "cell_type": "code",
   "execution_count": 289,
   "metadata": {},
   "outputs": [],
   "source": [
    "# y_target"
   ]
  },
  {
   "cell_type": "code",
   "execution_count": 290,
   "metadata": {},
   "outputs": [],
   "source": [
    "# y_pred"
   ]
  },
  {
   "cell_type": "markdown",
   "metadata": {},
   "source": [
    "# (train,  validate) * n_epoch code"
   ]
  },
  {
   "cell_type": "code",
   "execution_count": 291,
   "metadata": {
    "scrolled": false
   },
   "outputs": [
    {
     "name": "stdout",
     "output_type": "stream",
     "text": [
      "Train Epoch 1 start!\n",
      "[Train] loss: 1343.308\n",
      "[Train] mae_loss: 25.936\n",
      "[Test]  loss: 662.815\n",
      "[Test]  mae_loss: 20.312\n",
      "[Test, y_each_maeloss]:  [0.16178924217820168, 13.193943214416505, 8.634934997558595, 8.443574714660645, 5.1874229431152346]\n",
      "\n",
      "\n",
      "Train Epoch 2 start!\n",
      "[Train] loss: 1012.011\n",
      "[Train] mae_loss: 21.880\n",
      "[Test]  loss: 774.320\n",
      "[Test]  mae_loss: 18.138\n",
      "[Test, y_each_maeloss]:  [0.03840316161513328, 5.986505794525146, 0.30100330114364626, 6.3969118118286135, 22.49895401000977]\n",
      "\n",
      "\n",
      "Train Epoch 3 start!\n",
      "[Train] loss: 745.683\n",
      "[Train] mae_loss: 17.850\n",
      "[Test]  loss: 638.622\n",
      "[Test]  mae_loss: 15.868\n",
      "[Test, y_each_maeloss]:  [0.11502802670001984, 4.360010719299316, 0.4179733395576477, 4.796970367431641, 20.82328071594238]\n",
      "\n",
      "\n",
      "Train Epoch 4 start!\n",
      "[Train] loss: 517.476\n",
      "[Train] mae_loss: 13.592\n",
      "[Test]  loss: 452.812\n",
      "[Test]  mae_loss: 12.042\n",
      "[Test, y_each_maeloss]:  [0.10668722987174986, 2.0230037689208986, 0.30341712236404417, 2.5420572280883786, 17.9918643951416]\n",
      "\n",
      "\n",
      "Train Epoch 5 start!\n",
      "[Train] loss: 343.367\n",
      "[Train] mae_loss: 9.679\n",
      "[Test]  loss: 299.731\n",
      "[Test]  mae_loss: 8.605\n",
      "[Test, y_each_maeloss]:  [0.0706449866294861, 0.4226558685302735, 0.3840819716453553, 0.5339862823486328, 14.756803131103517]\n",
      "\n",
      "\n",
      "Train Epoch 6 start!\n",
      "[Train] loss: 221.157\n",
      "[Train] mae_loss: 7.443\n",
      "[Test]  loss: 198.348\n",
      "[Test]  mae_loss: 6.906\n",
      "[Test, y_each_maeloss]:  [0.11823120415210725, 0.6857366561889647, 0.4190990686416626, 0.31859588623046875, 11.873643493652345]\n",
      "\n",
      "\n",
      "Train Epoch 7 start!\n",
      "[Train] loss: 132.852\n",
      "[Train] mae_loss: 6.351\n",
      "[Test]  loss: 117.292\n",
      "[Test]  mae_loss: 5.647\n",
      "[Test, y_each_maeloss]:  [0.1224370837211609, 0.8298910140991211, 0.46260033845901494, 0.4497709274291992, 8.954851150512695]\n",
      "\n",
      "\n",
      "Train Epoch 8 start!\n",
      "[Train] loss: 71.854\n",
      "[Train] mae_loss: 4.811\n",
      "[Test]  loss: 51.810\n",
      "[Test]  mae_loss: 3.829\n",
      "[Test, y_each_maeloss]:  [0.03842009082436562, 0.8965005874633789, 0.3857971549034118, 0.45407867431640625, 5.616979598999023]\n",
      "\n",
      "\n",
      "Train Epoch 9 start!\n",
      "[Train] loss: 33.139\n",
      "[Train] mae_loss: 3.200\n",
      "[Test]  loss: 27.136\n",
      "[Test]  mae_loss: 2.939\n",
      "[Test, y_each_maeloss]:  [0.036481805890798566, 0.5124002456665039, 0.41978596448898314, 0.2728254318237305, 3.7540641784667965]\n",
      "\n",
      "\n",
      "Train Epoch 10 start!\n",
      "[Train] loss: 13.210\n",
      "[Train] mae_loss: 2.151\n",
      "[Test]  loss: 20.158\n",
      "[Test]  mae_loss: 2.747\n",
      "[Test, y_each_maeloss]:  [0.019289708510041238, 0.49005851745605467, 0.3438846468925476, 0.6550468444824219, 2.992552947998047]\n",
      "\n",
      "\n",
      "Train Epoch 11 start!\n",
      "[Train] loss: 5.055\n",
      "[Train] mae_loss: 1.454\n",
      "[Test]  loss: 3.724\n",
      "[Test]  mae_loss: 1.278\n",
      "[Test, y_each_maeloss]:  [0.057996024191379544, 0.5667474746704101, 0.33611561059951783, 0.26130523681640627, 0.7767745971679687]\n",
      "\n",
      "\n",
      "Train Epoch 12 start!\n",
      "[Train] loss: 2.479\n",
      "[Train] mae_loss: 1.101\n",
      "[Test]  loss: 3.575\n",
      "[Test]  mae_loss: 1.278\n",
      "[Test, y_each_maeloss]:  [0.0050408847630023955, 0.5224302291870118, 0.30197330713272097, 0.20313148498535155, 0.6261947631835938]\n",
      "\n",
      "\n",
      "Train Epoch 13 start!\n",
      "[Train] loss: 2.203\n",
      "[Train] mae_loss: 0.987\n",
      "[Test]  loss: 6.460\n",
      "[Test]  mae_loss: 1.823\n",
      "[Test, y_each_maeloss]:  [0.15905776023864746, 0.3917360305786133, 0.39750880002975464, 0.5813453674316407, 0.9949676513671875]\n",
      "\n",
      "\n",
      "Train Epoch 14 start!\n",
      "[Train] loss: 2.147\n",
      "[Train] mae_loss: 1.072\n",
      "[Test]  loss: 3.319\n",
      "[Test]  mae_loss: 1.223\n",
      "[Test, y_each_maeloss]:  [0.013590436242520808, 0.3558502197265625, 0.3713494181632995, 0.3819427490234375, 0.6125511169433594]\n",
      "\n",
      "\n",
      "Train Epoch 15 start!\n",
      "[Train] loss: 1.916\n",
      "[Train] mae_loss: 0.969\n",
      "[Test]  loss: 3.085\n",
      "[Test]  mae_loss: 1.184\n",
      "[Test, y_each_maeloss]:  [0.020908483117818833, 0.5924051284790038, 0.40384553670883183, 0.22666053771972658, 0.9080093383789062]\n",
      "\n",
      "\n",
      "Train Epoch 16 start!\n",
      "[Train] loss: 1.437\n",
      "[Train] mae_loss: 0.863\n",
      "[Test]  loss: 3.406\n",
      "[Test]  mae_loss: 1.246\n",
      "[Test, y_each_maeloss]:  [0.05551874786615372, 0.5461065292358398, 0.3273128390312195, 0.24322013854980468, 0.7676017761230469]\n",
      "\n",
      "\n",
      "Train Epoch 17 start!\n",
      "[Train] loss: 1.749\n",
      "[Train] mae_loss: 0.862\n",
      "[Test]  loss: 24.546\n",
      "[Test]  mae_loss: 3.542\n",
      "[Test, y_each_maeloss]:  [0.052496193349361425, 1.0786579132080079, 0.4976791501045227, 1.380767822265625, 2.958161163330078]\n",
      "\n",
      "\n",
      "Train Epoch 18 start!\n",
      "[Train] loss: 1.720\n",
      "[Train] mae_loss: 0.871\n",
      "[Test]  loss: 11.382\n",
      "[Test]  mae_loss: 2.264\n",
      "[Test, y_each_maeloss]:  [0.0045748606324195855, 1.4467226028442381, 0.354036808013916, 0.9909341812133788, 3.0459518432617188]\n",
      "\n",
      "\n",
      "Train Epoch 19 start!\n",
      "[Train] loss: 1.352\n",
      "[Train] mae_loss: 0.827\n",
      "[Test]  loss: 3.934\n",
      "[Test]  mae_loss: 1.198\n",
      "[Test, y_each_maeloss]:  [0.05757492110133171, 0.9851835250854492, 0.3402876019477844, 0.5213390350341798, 1.8353652954101562]\n",
      "\n",
      "\n",
      "Train Epoch 20 start!\n",
      "[Train] loss: 1.322\n",
      "[Train] mae_loss: 0.798\n",
      "[Test]  loss: 4.461\n",
      "[Test]  mae_loss: 1.448\n",
      "[Test, y_each_maeloss]:  [0.05549098551273346, 0.6793645858764649, 0.2787916541099548, 0.2599977493286133, 1.0153327941894532]\n",
      "\n",
      "\n",
      "Train Epoch 21 start!\n",
      "[Train] loss: 1.061\n",
      "[Train] mae_loss: 0.723\n",
      "[Test]  loss: 22.968\n",
      "[Test]  mae_loss: 3.341\n",
      "[Test, y_each_maeloss]:  [0.01762127056717873, 0.8627302169799804, 0.42236984968185426, 1.1900283813476562, 2.4298553466796875]\n",
      "\n",
      "\n",
      "Train Epoch 22 start!\n",
      "[Train] loss: 1.424\n",
      "[Train] mae_loss: 0.837\n",
      "[Test]  loss: 8.823\n",
      "[Test]  mae_loss: 2.066\n",
      "[Test, y_each_maeloss]:  [0.09231181144714357, 0.5715229034423828, 0.3409259915351867, 0.5130441665649413, 1.1019706726074219]\n",
      "\n",
      "\n",
      "Train Epoch 23 start!\n",
      "[Train] loss: 1.158\n",
      "[Train] mae_loss: 0.796\n",
      "[Test]  loss: 3.267\n",
      "[Test]  mae_loss: 1.260\n",
      "[Test, y_each_maeloss]:  [0.029773442447185515, 0.7916963577270508, 0.3435198426246643, 0.35129375457763673, 1.3145797729492188]\n",
      "\n",
      "\n",
      "Train Epoch 24 start!\n",
      "[Train] loss: 1.008\n",
      "[Train] mae_loss: 0.711\n",
      "[Test]  loss: 3.033\n",
      "[Test]  mae_loss: 1.113\n",
      "[Test, y_each_maeloss]:  [0.15600856244564057, 0.8162660598754883, 0.3644846796989441, 0.3555578231811523, 1.3373840332031248]\n",
      "\n",
      "\n",
      "Train Epoch 25 start!\n",
      "[Train] loss: 0.845\n",
      "[Train] mae_loss: 0.660\n",
      "[Test]  loss: 4.952\n",
      "[Test]  mae_loss: 1.534\n",
      "[Test, y_each_maeloss]:  [0.02509840950369835, 0.5554872512817384, 0.2964264273643494, 0.3598920822143555, 1.0349891662597657]\n",
      "\n",
      "\n"
     ]
    }
   ],
   "source": [
    "#trainer\n",
    "loss_plot, val_loss_plot = [], []\n",
    "maeloss_plot, maeval_loss_plot = [], []\n",
    "y_each_maeloss_plot = []\n",
    "for n_epoch in range(1, config.n_epoch + 1):\n",
    "    print(f'Train Epoch {n_epoch} start!')\n",
    "    avg_train_loss = 0\n",
    "    avg_train_mae = 0\n",
    "#     y1_mae = 0, y2_mae = 0, y3_mae = 0, y4_mae = 0, y5_mae = 0\n",
    "    \n",
    "    model.train()\n",
    "    \n",
    "    for iter, batch in enumerate(train_loader):\n",
    "        X = batch['X'].to(device)\n",
    "        y_target = batch['y_target'].to(device)\n",
    "        optimizer.zero_grad()#optimizer reset\n",
    "        \n",
    "        y_pred = model(X)\n",
    "        loss = criterion(y_pred, y_target)\n",
    "        loss2 = criterion2(y_pred, y_target)\n",
    "\n",
    "\n",
    "        loss.backward()\n",
    "        optimizer.step()\n",
    "        avg_train_loss += loss.item() / len(train_loader)\n",
    "        avg_train_mae += loss2.item() / len(train_loader)\n",
    "\n",
    "        \n",
    "        \n",
    "    print('[Train] loss: {:.3f}'.format(avg_train_loss))\n",
    "    print('[Train] mae_loss: {:.3f}'.format(avg_train_mae))\n",
    "    loss_plot.append(avg_train_loss)\n",
    "    maeloss_plot.append(avg_train_mae)\n",
    "        #evaluation\n",
    "    model.eval()\n",
    "    avg_test_loss = 0\n",
    "    avg_test_mae = 0\n",
    "    y_each = [0]*5\n",
    "        \n",
    "    with torch.no_grad(): #no need to compute gradient\n",
    "\n",
    "        for iter, batch in enumerate(test_loader):\n",
    "            X = batch['X'].to(device)\n",
    "            y_target = batch['y_target'].to(device)\n",
    "                \n",
    "            y_pred = model(X)\n",
    "            loss = criterion(y_pred, y_target)\n",
    "            loss2 = criterion2(y_pred, y_target)\n",
    "            y_each_maeloss = []\n",
    "            for i in range(5):\n",
    "                y_each_maeloss.append(criterion2(y_pred[0][i], y_target[0][i]).item() / len(train_loader))    \n",
    "\n",
    "            y_each = list(map(add, y_each, y_each_maeloss))\n",
    "            avg_test_loss += loss.item()/len(test_loader)\n",
    "            avg_test_mae += loss2.item()/len(test_loader)\n",
    "\n",
    "        print('[Test]  loss: {:.3f}'.format(avg_test_loss))\n",
    "        print('[Test]  mae_loss: {:.3f}'.format(avg_test_mae))\n",
    "        print('[Test, y_each_maeloss]: ',y_each)\n",
    "        print('\\n')\n",
    "        val_loss_plot.append(avg_test_loss)\n",
    "        maeval_loss_plot.append(avg_test_mae)\n",
    "        y_each_maeloss_plot.append(y_each)"
   ]
  },
  {
   "cell_type": "code",
   "execution_count": 271,
   "metadata": {},
   "outputs": [
    {
     "name": "stdout",
     "output_type": "stream",
     "text": [
      "[1, 1, 5, 1, 1]\n"
     ]
    }
   ],
   "source": [
    "from operator import add\n",
    "x = [0, 0, 0, 0, 0]\n",
    "y = [1, 1, 5, 1, 1]\n",
    "z=list(map(add, x, y))\n",
    "print(z)"
   ]
  },
  {
   "cell_type": "code",
   "execution_count": 305,
   "metadata": {},
   "outputs": [
    {
     "data": {
      "text/plain": [
       "(25, 5)"
      ]
     },
     "execution_count": 305,
     "metadata": {},
     "output_type": "execute_result"
    }
   ],
   "source": [
    "# loss = criterion(y_pred, y_target)\n",
    "y_plot = np.array(y_each_maeloss_plot, np.float32)\n",
    "y_plot.shape"
   ]
  },
  {
   "cell_type": "code",
   "execution_count": 148,
   "metadata": {},
   "outputs": [
    {
     "name": "stdout",
     "output_type": "stream",
     "text": [
      "15.383448600769043\n",
      "3.069242238998413\n"
     ]
    },
    {
     "data": {
      "text/plain": [
       "tensor([3.7306e-02, 2.9708e+01, 3.1115e+00, 2.8314e+01, 7.1264e+01],\n",
       "       device='cuda:0')"
      ]
     },
     "execution_count": 148,
     "metadata": {},
     "output_type": "execute_result"
    }
   ],
   "source": [
    "# y_pred\n",
    "# loss = criterion(y_pred, y_target)\n",
    "print(loss.item())\n",
    "# loss2 = criterion2(y_pred, y_target)\n",
    "print(loss2.item())\n",
    "\n",
    "y_pred[0]"
   ]
  },
  {
   "cell_type": "code",
   "execution_count": 84,
   "metadata": {},
   "outputs": [
    {
     "data": {
      "text/plain": [
       "(29, 29)"
      ]
     },
     "execution_count": 84,
     "metadata": {},
     "output_type": "execute_result"
    }
   ],
   "source": [
    "len(loss_plot), len(val_loss_plot)"
   ]
  },
  {
   "cell_type": "code",
   "execution_count": 31,
   "metadata": {},
   "outputs": [],
   "source": [
    "import matplotlib.pyplot as plt"
   ]
  },
  {
   "cell_type": "code",
   "execution_count": 144,
   "metadata": {},
   "outputs": [
    {
     "data": {
      "image/png": "[encoded data removed]",
      "text/plain": [
       "<Figure size 640x480 with 1 Axes>"
      ]
     },
     "metadata": {},
     "output_type": "display_data"
    }
   ],
   "source": [
    "plt.plot(loss_plot[3:], label='train_loss')\n",
    "plt.plot(val_loss_plot[3:], label='val_loss')\n",
    "plt.xlabel('epoch')\n",
    "plt.ylabel('loss(mse)')\n",
    "plt.legend()\n",
    "plt.show()"
   ]
  },
  {
   "cell_type": "code",
   "execution_count": 145,
   "metadata": {},
   "outputs": [
    {
     "data": {
      "image/png": "[encoded data removed]",
      "text/plain": [
       "<Figure size 640x480 with 1 Axes>"
      ]
     },
     "metadata": {},
     "output_type": "display_data"
    }
   ],
   "source": [
    "plt.plot(maeloss_plot, label='train_loss')\n",
    "plt.plot(maeval_loss_plot, label='val_loss')\n",
    "plt.xlabel('epoch')\n",
    "plt.ylabel('loss(mae)')\n",
    "plt.legend()\n",
    "plt.show()"
   ]
  },
  {
   "cell_type": "code",
   "execution_count": 306,
   "metadata": {},
   "outputs": [
    {
     "data": {
      "image/png": "[encoded data removed]",
      "text/plain": [
       "<Figure size 640x480 with 1 Axes>"
      ]
     },
     "metadata": {},
     "output_type": "display_data"
    }
   ],
   "source": [
    "plt.plot(y_plot[:,0], label='y1_loss')\n",
    "plt.plot(y_plot[:,1], label='y2_loss')\n",
    "plt.plot(y_plot[:,2], label='y3_loss')\n",
    "plt.plot(y_plot[:,3], label='y4_loss')\n",
    "plt.plot(y_plot[:,4], label='y5_loss')\n",
    "\n",
    "plt.xlabel('epoch')\n",
    "plt.ylabel('loss(y_n_mae)')\n",
    "plt.legend()\n",
    "plt.show()"
   ]
  },
  {
   "cell_type": "code",
   "execution_count": 146,
   "metadata": {},
   "outputs": [],
   "source": [
    "torch.save(model, output_path)"
   ]
  },
  {
   "cell_type": "markdown",
   "metadata": {},
   "source": [
    "# (train) * n_epoch --> validate only once"
   ]
  },
  {
   "cell_type": "code",
   "execution_count": 314,
   "metadata": {},
   "outputs": [
    {
     "name": "stdout",
     "output_type": "stream",
     "text": [
      "Train Epoch 1 start!\n",
      "[Train] loss: 1303.865\n",
      "[Train] mae_loss: 25.421\n",
      "Train Epoch 2 start!\n",
      "[Train] loss: 970.309\n",
      "[Train] mae_loss: 21.226\n",
      "Train Epoch 3 start!\n",
      "[Train] loss: 719.108\n",
      "[Train] mae_loss: 17.261\n",
      "Train Epoch 4 start!\n",
      "[Train] loss: 499.423\n",
      "[Train] mae_loss: 12.972\n",
      "Train Epoch 5 start!\n",
      "[Train] loss: 333.277\n",
      "[Train] mae_loss: 9.189\n",
      "Train Epoch 6 start!\n",
      "[Train] loss: 216.648\n",
      "[Train] mae_loss: 7.443\n",
      "Train Epoch 7 start!\n",
      "[Train] loss: 128.496\n",
      "[Train] mae_loss: 6.236\n",
      "Train Epoch 8 start!\n",
      "[Train] loss: 69.776\n",
      "[Train] mae_loss: 4.626\n",
      "Train Epoch 9 start!\n",
      "[Train] loss: 33.409\n",
      "[Train] mae_loss: 3.173\n",
      "Train Epoch 10 start!\n",
      "[Train] loss: 13.856\n",
      "[Train] mae_loss: 2.161\n",
      "Train Epoch 11 start!\n",
      "[Train] loss: 5.579\n",
      "[Train] mae_loss: 1.500\n",
      "Train Epoch 12 start!\n",
      "[Train] loss: 2.882\n",
      "[Train] mae_loss: 1.150\n",
      "Train Epoch 13 start!\n",
      "[Train] loss: 2.051\n",
      "[Train] mae_loss: 0.996\n",
      "Train Epoch 14 start!\n",
      "[Train] loss: 1.819\n",
      "[Train] mae_loss: 0.897\n",
      "Train Epoch 15 start!\n",
      "[Train] loss: 1.769\n",
      "[Train] mae_loss: 0.943\n",
      "Train Epoch 16 start!\n",
      "[Train] loss: 1.786\n",
      "[Train] mae_loss: 0.916\n",
      "Train Epoch 17 start!\n",
      "[Train] loss: 1.815\n",
      "[Train] mae_loss: 0.985\n",
      "Train Epoch 18 start!\n",
      "[Train] loss: 1.176\n",
      "[Train] mae_loss: 0.776\n",
      "Train Epoch 19 start!\n",
      "[Train] loss: 1.076\n",
      "[Train] mae_loss: 0.728\n",
      "Train Epoch 20 start!\n",
      "[Train] loss: 1.081\n",
      "[Train] mae_loss: 0.744\n",
      "Train Epoch 21 start!\n",
      "[Train] loss: 1.106\n",
      "[Train] mae_loss: 0.733\n",
      "Train Epoch 22 start!\n",
      "[Train] loss: 0.957\n",
      "[Train] mae_loss: 0.703\n",
      "Train Epoch 23 start!\n",
      "[Train] loss: 1.038\n",
      "[Train] mae_loss: 0.724\n",
      "Train Epoch 24 start!\n",
      "[Train] loss: 1.070\n",
      "[Train] mae_loss: 0.732\n",
      "Train Epoch 25 start!\n",
      "[Train] loss: 0.967\n",
      "[Train] mae_loss: 0.690\n",
      "[Test]  loss: 3.155\n",
      "[Test]  mae_loss: 1.267\n",
      "[Test, y_each_maeloss]:  [0.0896496832370758, 0.7469770431518554, 0.3324788212776184, 0.28015785217285155, 1.1289459228515626]\n",
      "\n",
      "\n"
     ]
    }
   ],
   "source": [
    "loss_plot, val_loss_plot = [], []\n",
    "maeloss_plot, maeval_loss_plot = [], []\n",
    "y_each_maeloss_plot = []\n",
    "for n_epoch in range(1, config.n_epoch + 1):\n",
    "    print(f'Train Epoch {n_epoch} start!')\n",
    "    avg_train_loss = 0\n",
    "    avg_train_mae = 0\n",
    "    \n",
    "    model.train()\n",
    "    \n",
    "    for iter, batch in enumerate(train_loader):\n",
    "        X = batch['X'].to(device)\n",
    "        y_target = batch['y_target'].to(device)\n",
    "        optimizer.zero_grad()#optimizer reset\n",
    "        \n",
    "        y_pred = model(X)\n",
    "        loss = criterion(y_pred, y_target)\n",
    "        loss2 = criterion2(y_pred, y_target)\n",
    "\n",
    "\n",
    "        loss.backward()\n",
    "        optimizer.step()\n",
    "        avg_train_loss += loss.item() / len(train_loader)\n",
    "        avg_train_mae += loss2.item() / len(train_loader)\n",
    "\n",
    "        \n",
    "        \n",
    "    print('[Train] loss: {:.3f}'.format(avg_train_loss))\n",
    "    print('[Train] mae_loss: {:.3f}'.format(avg_train_mae))\n",
    "    loss_plot.append(avg_train_loss)\n",
    "    maeloss_plot.append(avg_train_mae)\n",
    "        #evaluation\n",
    "model.eval()\n",
    "avg_test_loss = 0\n",
    "avg_test_mae = 0\n",
    "y_each = [0]*5\n",
    "\n",
    "with torch.no_grad(): #no need to compute gradient: 사용 목적: autograd를 끔으로써 메모리사용량을 줄이고 연산 속도를 높이기 위해서 사용\n",
    "\n",
    "    for iter, batch in enumerate(test_loader):\n",
    "        X = batch['X'].to(device)\n",
    "        y_target = batch['y_target'].to(device)\n",
    "\n",
    "        y_pred = model(X)\n",
    "        loss = criterion(y_pred, y_target)\n",
    "        loss2 = criterion2(y_pred, y_target)\n",
    "        y_each_maeloss = []\n",
    "        for i in range(5):\n",
    "            y_each_maeloss.append(criterion2(y_pred[0][i], y_target[0][i]).item() / len(train_loader))    \n",
    "\n",
    "        y_each = list(map(add, y_each, y_each_maeloss))\n",
    "        avg_test_loss += loss.item()/len(test_loader)\n",
    "        avg_test_mae += loss2.item()/len(test_loader)\n",
    "\n",
    "    print('[Test]  loss: {:.3f}'.format(avg_test_loss))\n",
    "    print('[Test]  mae_loss: {:.3f}'.format(avg_test_mae))\n",
    "    print('[Test, y_each_maeloss]: ',y_each)\n",
    "    print('\\n')\n",
    "    val_loss_plot.append(avg_test_loss)\n",
    "    maeval_loss_plot.append(avg_test_mae)\n",
    "    y_each_maeloss_plot.append(y_each)"
   ]
  },
  {
   "cell_type": "code",
   "execution_count": 315,
   "metadata": {},
   "outputs": [
    {
     "data": {
      "image/png": "[encoded data removed]",
      "text/plain": [
       "<Figure size 640x480 with 1 Axes>"
      ]
     },
     "metadata": {},
     "output_type": "display_data"
    }
   ],
   "source": [
    "plt.plot(loss_plot[3:], label='train_loss')\n",
    "plt.plot(val_loss_plot[3:], label='val_loss')\n",
    "plt.xlabel('epoch')\n",
    "plt.ylabel('loss(mse)')\n",
    "plt.legend()\n",
    "plt.show()"
   ]
  },
  {
   "cell_type": "code",
   "execution_count": 316,
   "metadata": {},
   "outputs": [
    {
     "data": {
      "image/png": "[encoded data removed]",
      "text/plain": [
       "<Figure size 640x480 with 1 Axes>"
      ]
     },
     "metadata": {},
     "output_type": "display_data"
    }
   ],
   "source": [
    "plt.plot(maeloss_plot, label='train_loss')\n",
    "plt.plot(maeval_loss_plot, label='val_loss')\n",
    "plt.xlabel('epoch')\n",
    "plt.ylabel('loss(mae)')\n",
    "plt.legend()\n",
    "plt.show()"
   ]
  }
 ],
 "metadata": {
  "kernelspec": {
   "display_name": "Python 3",
   "language": "python",
   "name": "python3"
  },
  "language_info": {
   "codemirror_mode": {
    "name": "ipython",
    "version": 3
   },
   "file_extension": ".py",
   "mimetype": "text/x-python",
   "name": "python",
   "nbconvert_exporter": "python",
   "pygments_lexer": "ipython3",
   "version": "3.7.11"
  }
 },
 "nbformat": 4,
 "nbformat_minor": 2
}
